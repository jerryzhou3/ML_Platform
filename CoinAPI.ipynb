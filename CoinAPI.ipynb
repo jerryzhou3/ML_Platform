{
 "cells": [
  {
   "cell_type": "code",
   "execution_count": 1,
   "metadata": {},
   "outputs": [],
   "source": [
    "import json\n",
    "import requests\n",
    "import pandas as pd"
   ]
  },
  {
   "cell_type": "code",
   "execution_count": 2,
   "metadata": {},
   "outputs": [],
   "source": [
    "API_KEY = None\n",
    "with open('api_key', 'r') as f:\n",
    "    json_content = f.read()\n",
    "    API_KEY = json.loads(json_content)['coinapi']"
   ]
  },
  {
   "cell_type": "code",
   "execution_count": 3,
   "metadata": {},
   "outputs": [],
   "source": [
    "def Coin_Exchange_Rate(asset = 'BTC'):\n",
    "    url = f'https://rest-sandbox.coinapi.io/v1/exchangerate/{asset}?apikey={API_KEY}'\n",
    "    response = requests.get(url)\n",
    "    json_content = json.loads(response.content)\n",
    "    return json_content['rates']\n",
    "\n",
    "def Coin_Exchange_Rate_To_csv(data):\n",
    "    df = pd.DataFrame.from_records(data)\n",
    "    df.set_index('asset_id_quote', inplace = True)\n",
    "    return df"
   ]
  }
 ],
 "metadata": {
  "kernelspec": {
   "display_name": "Python 3",
   "language": "python",
   "name": "python3"
  },
  "language_info": {
   "codemirror_mode": {
    "name": "ipython",
    "version": 3
   },
   "file_extension": ".py",
   "mimetype": "text/x-python",
   "name": "python",
   "nbconvert_exporter": "python",
   "pygments_lexer": "ipython3",
   "version": "3.8.5"
  }
 },
 "nbformat": 4,
 "nbformat_minor": 4
}
